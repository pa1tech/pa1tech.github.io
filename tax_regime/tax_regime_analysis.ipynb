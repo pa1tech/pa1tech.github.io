{
  "nbformat": 4,
  "nbformat_minor": 0,
  "metadata": {
    "colab": {
      "name": "Tax regime analysis.ipynb",
      "provenance": [],
      "collapsed_sections": [],
      "authorship_tag": "ABX9TyNmf8rTtvtAJ1ZkDr5yu8Xa",
      "include_colab_link": true
    },
    "kernelspec": {
      "name": "python3",
      "display_name": "Python 3"
    }
  },
  "cells": [
    {
      "cell_type": "markdown",
      "metadata": {
        "id": "view-in-github",
        "colab_type": "text"
      },
      "source": [
        "<a href=\"https://colab.research.google.com/github/pa1tech/anveshak/blob/master/tax_regime_analysis.ipynb\" target=\"_parent\"><img src=\"https://colab.research.google.com/assets/colab-badge.svg\" alt=\"Open In Colab\"/></a>"
      ]
    },
    {
      "cell_type": "markdown",
      "metadata": {
        "id": "MP6L8pwV7Tgx",
        "colab_type": "text"
      },
      "source": [
        "# Comparing the old and new tax regimes\n",
        "\n",
        "---\n",
        "\n",
        "![New-Vs-Old-Income-Tax-Slab.png](https://stableinvestor.com/wp-content/uploads/2020/02/New-Vs-Old-Income-Tax-Slab.png)\n",
        "\n",
        "### Old Tax Regime\n",
        "*   Standard deduction of **50,000/-**\n",
        "*   Deductions under 80C are assumed to be fully utilised i.e, **1,50,000/-**\n",
        "*   Employee's self-contribution towards NPS under 80CCD(1B) of **50,000/-**\n",
        "*   Employer's contributions towards NPS is assumed to be zero, however can be given as a parameter to the function ***old_tax_regime(gross_income,employer_pf,employer_nps)***\n",
        "*   HRA, LTA and other exemptions are not considered\n",
        "\n",
        "**PF contribution** by the employer is assumed to be **12% of the gross income**, however can be changed in the function's parameters\n",
        "\n",
        "## **Conclusion:** The old tax regime seems to be beneficial assuming that you avail all the main deductions possible\n",
        "\n",
        "\n",
        "\n",
        "\n"
      ]
    },
    {
      "cell_type": "code",
      "metadata": {
        "id": "wa-66kYUoJDK",
        "colab_type": "code",
        "colab": {}
      },
      "source": [
        "def old_tax_regime(gross_income,employer_pf,employer_nps):\n",
        "  income = (gross_income-employer_pf)/1e5 #income in lakhs\n",
        "\n",
        "  #Standard deduction : 50k\n",
        "  income += -0.5\n",
        "  #80C deductions : 1.5lac\n",
        "  income += -1.5\n",
        "  #80CCD(1b) : NPS self-contribution : 50k\n",
        "  income += -0.5\n",
        "  #80CCD(2) : Employer NPS contribution : max 10% of gross_income\n",
        "  income += -employer_nps/1e5\n",
        "\n",
        "  tax = 0\n",
        "  if income>10 :\n",
        "    tax = 0.05*2.5 + 0.2*5 + 0.3*(income-10)\n",
        "  elif income>5:\n",
        "    tax = 0.05*2.5 + 0.2*(income-5)\n",
        "  elif income>2.5:\n",
        "    tax = 0.05*(income-2.5)\n",
        "\n",
        "  return tax\n",
        "\n",
        "def new_tax_regime(gross_income,employer_pf,employer_nps):\n",
        "  income = (gross_income-employer_pf)/1e5 #income in lakhs\n",
        "\n",
        "  #80CCD(2) : Employer NPS contribution : max 10% of gross_income\n",
        "  income += -employer_nps/1e5\n",
        "\n",
        "  tax = 0\n",
        "  if income>15 :\n",
        "    tax = (0.05+0.1+0.15+0.2+0.25)*2.5 + 0.3*(income-15)\n",
        "  elif income>12.5:\n",
        "    tax = (0.05+0.1+0.15+0.2)*2.5 + 0.25*(income-12.5)\n",
        "  elif income>10:\n",
        "    tax = (0.05+0.1+0.15)*2.5 + 0.2*(income-10)\n",
        "  elif income>7.5:\n",
        "    tax = (0.05+0.1)*2.5 + 0.15*(income-7.5)\n",
        "  elif income>5:\n",
        "    tax = 0.05*2.5 + 0.1*(income-5)\n",
        "  elif income>2.5:\n",
        "    tax = 0.05*(income-2.5)\n",
        "\n",
        "  return tax"
      ],
      "execution_count": 1,
      "outputs": []
    },
    {
      "cell_type": "code",
      "metadata": {
        "id": "4_BT2riIxMRC",
        "colab_type": "code",
        "colab": {
          "base_uri": "https://localhost:8080/",
          "height": 204
        },
        "outputId": "9b21855d-1a73-4b81-eb94-649e7a868ea3"
      },
      "source": [
        "incomes = [9e5,10e5,11e5,12e5,13e5,14e5,15e5,16e5,17e5,18e5,19e5]\n",
        "for i in incomes:\n",
        "  old = int(1e5*(old_tax_regime(i,0.12*i,0)))\n",
        "  new = int(1e5*(new_tax_regime(i,0.12*i,0)))\n",
        "  print(\"%d lakhs gross -- old: %d -- new: %d\"%(i/1e5,old,new))"
      ],
      "execution_count": 2,
      "outputs": [
        {
          "output_type": "stream",
          "text": [
            "9 lakhs gross -- old: 20900 -- new: 43800\n",
            "10 lakhs gross -- old: 38500 -- new: 57000\n",
            "11 lakhs gross -- old: 56099 -- new: 70200\n",
            "12 lakhs gross -- old: 73700 -- new: 86200\n",
            "13 lakhs gross -- old: 91299 -- new: 103800\n",
            "14 lakhs gross -- old: 108900 -- new: 121400\n",
            "15 lakhs gross -- old: 133499 -- new: 142499\n",
            "16 lakhs gross -- old: 159900 -- new: 164500\n",
            "17 lakhs gross -- old: 186300 -- new: 186500\n",
            "18 lakhs gross -- old: 212699 -- new: 212699\n",
            "19 lakhs gross -- old: 239099 -- new: 239099\n"
          ],
          "name": "stdout"
        }
      ]
    }
  ]
}